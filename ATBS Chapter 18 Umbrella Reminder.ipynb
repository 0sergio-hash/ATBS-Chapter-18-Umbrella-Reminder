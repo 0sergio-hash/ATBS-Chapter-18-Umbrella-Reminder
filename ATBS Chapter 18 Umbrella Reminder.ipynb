{
 "cells": [
  {
   "cell_type": "markdown",
   "metadata": {},
   "source": [
    "# [Instructions for this project](https://automatetheboringstuff.com/2e/chapter18/)"
   ]
  },
  {
   "cell_type": "code",
   "execution_count": 1,
   "metadata": {},
   "outputs": [],
   "source": [
    "# Practice project: Umbrella Reminder\n",
    "\n",
    "# Import libraries\n",
    "import json, requests\n",
    "\n",
    "# Scrape weather data\n",
    "\n",
    "# Define API ID\n",
    "APPID = ''\n",
    "\n",
    "# Define location\n",
    "location = 'Fort Worth, Texas'\n",
    "\n",
    "# Download the JSON data from OpenWeatherMap.org's API.\n",
    "url = f'http://api.openweathermap.org/data/2.5/weather?q={location}&units=imperial&appid={APPID}'\n",
    "\n",
    "response = requests.get(url)\n",
    "response.raise_for_status()\n",
    "\n",
    "# Load JSON data into a Python variable.\n",
    "weatherData = json.loads(response.text)\n",
    "\n",
    "# Define variables to hold weather data information\n",
    "\n",
    "# Weather ID's describe groups of weather. 800 is clear, 801-804 is cloudy\n",
    "weatherId = weatherData['weather'][0]['id']\n",
    "\n",
    "# Description text for the weather condition\n",
    "weatherDescription = weatherData['weather'][0]['description']\n",
    "\n",
    "# Main temperature\n",
    "weatherTemp = weatherData['main']['temp']\n",
    "\n",
    "# If ID variable is less than 800 (If weather is anything other than cloudy or clear)\n",
    "if weatherId < 800:\n",
    "    # Text me\n",
    "    import textmyself # Defined this function in a previous practice project\n",
    "    textmyself.textmyself(f\"Good morning! You may get to skip your run today! Here is the forecast: Condition: {weatherDescription}, Temperature: {weatherTemp}.\")\n",
    "\n",
    "else:\n",
    "    pass"
   ]
  },
  {
   "cell_type": "code",
   "execution_count": 2,
   "metadata": {},
   "outputs": [
    {
     "name": "stdout",
     "output_type": "stream",
     "text": [
      "Here is the forecast: Condition:clear sky, Temperature:65.01.\n"
     ]
    }
   ],
   "source": [
    "print(f'Here is the forecast: Condition:{weatherDescription}, Temperature:{weatherTemp}.')"
   ]
  }
 ],
 "metadata": {
  "kernelspec": {
   "display_name": "ibm_project",
   "language": "python",
   "name": "ibm_project"
  },
  "language_info": {
   "codemirror_mode": {
    "name": "ipython",
    "version": 3
   },
   "file_extension": ".py",
   "mimetype": "text/x-python",
   "name": "python",
   "nbconvert_exporter": "python",
   "pygments_lexer": "ipython3",
   "version": "3.7.9"
  }
 },
 "nbformat": 4,
 "nbformat_minor": 4
}
